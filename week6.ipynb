{
 "cells": [
  {
   "cell_type": "markdown",
   "id": "140e4590",
   "metadata": {},
   "source": [
    "## Read the data set into python"
   ]
  },
  {
   "cell_type": "code",
   "execution_count": 11,
   "id": "62166372",
   "metadata": {},
   "outputs": [
    {
     "data": {
      "text/html": [
       "<div>\n",
       "<style scoped>\n",
       "    .dataframe tbody tr th:only-of-type {\n",
       "        vertical-align: middle;\n",
       "    }\n",
       "\n",
       "    .dataframe tbody tr th {\n",
       "        vertical-align: top;\n",
       "    }\n",
       "\n",
       "    .dataframe thead th {\n",
       "        text-align: right;\n",
       "    }\n",
       "</style>\n",
       "<table border=\"1\" class=\"dataframe\">\n",
       "  <thead>\n",
       "    <tr style=\"text-align: right;\">\n",
       "      <th></th>\n",
       "      <th>country</th>\n",
       "      <th>Region</th>\n",
       "      <th>Surface area (km2)</th>\n",
       "      <th>Population in thousands (2017)</th>\n",
       "      <th>GDP per capita (current US$)</th>\n",
       "      <th>Agricultural production index</th>\n",
       "      <th>International trade: Imports (million US$)</th>\n",
       "    </tr>\n",
       "  </thead>\n",
       "  <tbody>\n",
       "    <tr>\n",
       "      <th>0</th>\n",
       "      <td>Afghanistan</td>\n",
       "      <td>SouthernAsia</td>\n",
       "      <td>652864.0</td>\n",
       "      <td>35530.0</td>\n",
       "      <td>623.2</td>\n",
       "      <td>125.0</td>\n",
       "      <td>3568.0</td>\n",
       "    </tr>\n",
       "    <tr>\n",
       "      <th>1</th>\n",
       "      <td>Albania</td>\n",
       "      <td>SouthernEurope</td>\n",
       "      <td>28748.0</td>\n",
       "      <td>2930.0</td>\n",
       "      <td>3984.2</td>\n",
       "      <td>134.0</td>\n",
       "      <td>4669.0</td>\n",
       "    </tr>\n",
       "    <tr>\n",
       "      <th>2</th>\n",
       "      <td>Algeria</td>\n",
       "      <td>NorthernAfrica</td>\n",
       "      <td>2381741.0</td>\n",
       "      <td>41318.0</td>\n",
       "      <td>4154.1</td>\n",
       "      <td>160.0</td>\n",
       "      <td>47091.0</td>\n",
       "    </tr>\n",
       "    <tr>\n",
       "      <th>3</th>\n",
       "      <td>Angola</td>\n",
       "      <td>MiddleAfrica</td>\n",
       "      <td>1246700.0</td>\n",
       "      <td>29784.0</td>\n",
       "      <td>4714.1</td>\n",
       "      <td>175.0</td>\n",
       "      <td>8790.0</td>\n",
       "    </tr>\n",
       "    <tr>\n",
       "      <th>4</th>\n",
       "      <td>Antigua and Barbuda</td>\n",
       "      <td>Caribbean</td>\n",
       "      <td>442.0</td>\n",
       "      <td>102.0</td>\n",
       "      <td>14764.5</td>\n",
       "      <td>88.0</td>\n",
       "      <td>491.0</td>\n",
       "    </tr>\n",
       "  </tbody>\n",
       "</table>\n",
       "</div>"
      ],
      "text/plain": [
       "               country          Region  Surface area (km2)  \\\n",
       "0          Afghanistan    SouthernAsia            652864.0   \n",
       "1              Albania  SouthernEurope             28748.0   \n",
       "2              Algeria  NorthernAfrica           2381741.0   \n",
       "3               Angola    MiddleAfrica           1246700.0   \n",
       "4  Antigua and Barbuda       Caribbean               442.0   \n",
       "\n",
       "   Population in thousands (2017)  GDP per capita (current US$)  \\\n",
       "0                         35530.0                         623.2   \n",
       "1                          2930.0                        3984.2   \n",
       "2                         41318.0                        4154.1   \n",
       "3                         29784.0                        4714.1   \n",
       "4                           102.0                       14764.5   \n",
       "\n",
       "   Agricultural production index   International trade: Imports (million US$)  \n",
       "0                           125.0                                      3568.0  \n",
       "1                           134.0                                      4669.0  \n",
       "2                           160.0                                     47091.0  \n",
       "3                           175.0                                      8790.0  \n",
       "4                            88.0                                       491.0  "
      ]
     },
     "execution_count": 11,
     "metadata": {},
     "output_type": "execute_result"
    }
   ],
   "source": [
    "import statistics\n",
    "import pandas as pd\n",
    "import matplotlib.pyplot as plt\n",
    "import seaborn as sns\n",
    "data = pd.read_excel('Dataset_w6.xlsx')\n",
    "data.head()"
   ]
  },
  {
   "cell_type": "markdown",
   "id": "2831b5a6",
   "metadata": {},
   "source": [
    "### 1. Find out how many countries are there in the dataset."
   ]
  },
  {
   "cell_type": "code",
   "execution_count": 26,
   "id": "1c405757",
   "metadata": {},
   "outputs": [
    {
     "name": "stdout",
     "output_type": "stream",
     "text": [
      "Count of countries in the dataset are: 196\n"
     ]
    }
   ],
   "source": [
    "country_count = data['country'].count()\n",
    "print(f\"Count of countries in the dataset are: {country_count}\")\n"
   ]
  },
  {
   "cell_type": "markdown",
   "id": "28c50967",
   "metadata": {},
   "source": [
    "### 2. Find out how many countries with respect to the region are available in the dataset\n"
   ]
  },
  {
   "cell_type": "code",
   "execution_count": 25,
   "id": "c66cc0ab",
   "metadata": {},
   "outputs": [
    {
     "data": {
      "text/plain": [
       "Region\n",
       "Caribbean            16\n",
       "CentralAmerica        8\n",
       "CentralAsia           5\n",
       "EasternAfrica        17\n",
       "EasternAsia           7\n",
       "EasternEurope        10\n",
       "Melanesia             5\n",
       "Micronesia            4\n",
       "MiddleAfrica          9\n",
       "NorthernAfrica        5\n",
       "NorthernAmerica       4\n",
       "NorthernEurope       10\n",
       "Oceania               2\n",
       "Polynesia             5\n",
       "South-easternAsia    11\n",
       "SouthAmerica         12\n",
       "SouthernAfrica        5\n",
       "SouthernAsia          9\n",
       "SouthernEurope       12\n",
       "WesternAfrica        15\n",
       "WesternAsia          18\n",
       "WesternEurope         7\n",
       "Name: country, dtype: int64"
      ]
     },
     "execution_count": 25,
     "metadata": {},
     "output_type": "execute_result"
    }
   ],
   "source": [
    "country_region = data.groupby('Region')\n",
    "country_region['country'].count()"
   ]
  },
  {
   "cell_type": "markdown",
   "id": "6a6f16f4",
   "metadata": {},
   "source": [
    "### 3. On average which region has the highest\n",
    "\n",
    "a. GDP per capita (current US$)\n",
    "\n",
    "b. International trade: Imports (million US$)\n"
   ]
  },
  {
   "cell_type": "code",
   "execution_count": 34,
   "id": "1d141e44",
   "metadata": {},
   "outputs": [
    {
     "name": "stdout",
     "output_type": "stream",
     "text": [
      "Northern America has highest GDP per capita and Western Africa has lowest GDP per capita\n",
      " Region\n",
      "NorthernAmerica      57659.000000\n",
      "WesternEurope        55387.128571\n",
      "Oceania              44823.250000\n",
      "NorthernEurope       42098.220000\n",
      "EasternAsia          27967.614286\n",
      "WesternAsia          17013.938889\n",
      "Caribbean            15135.562500\n",
      "SouthernEurope       14462.741667\n",
      "South-easternAsia    10299.027273\n",
      "EasternEurope         9292.490000\n",
      "Melanesia             9261.960000\n",
      "Polynesia             8686.520000\n",
      "SouthAmerica          8499.775000\n",
      "CentralAmerica        6348.137500\n",
      "Micronesia            5008.300000\n",
      "CentralAsia           4329.880000\n",
      "SouthernAfrica        4191.900000\n",
      "NorthernAfrica        3934.960000\n",
      "MiddleAfrica          3928.833333\n",
      "SouthernAsia          2968.400000\n",
      "EasternAfrica         2088.852941\n",
      "WesternAfrica         1013.140000\n",
      "Name: GDP per capita (current US$), dtype: float64\n"
     ]
    }
   ],
   "source": [
    "gdp=data.groupby('Region').mean()['GDP per capita (current US$)'].sort_values(ascending=False)\n",
    "\n",
    "print(f\"Northern America has highest GDP per capita and Western Africa has lowest GDP per capita\\n {gdp}\")\n"
   ]
  },
  {
   "cell_type": "code",
   "execution_count": 36,
   "id": "5f4f6eb9",
   "metadata": {},
   "outputs": [
    {
     "name": "stdout",
     "output_type": "stream",
     "text": [
      "Northern America has highest International trade and Micronesia has lowest International trade\n",
      " Region\n",
      "NorthernAmerica      663552.250000\n",
      "EasternAsia          451995.000000\n",
      "WesternEurope        407498.428571\n",
      "NorthernEurope       113407.200000\n",
      "Oceania              112914.500000\n",
      "South-easternAsia     98324.636364\n",
      "EasternEurope         85243.900000\n",
      "SouthernEurope        76666.666667\n",
      "SouthernAsia          58199.333333\n",
      "CentralAmerica        57031.500000\n",
      "WesternAsia           46025.555556\n",
      "NorthernAfrica        35034.400000\n",
      "SouthAmerica          32885.666667\n",
      "SouthernAfrica        18005.600000\n",
      "CentralAsia           12063.400000\n",
      "WesternAfrica          4898.333333\n",
      "EasternAfrica          4726.176471\n",
      "MiddleAfrica           4381.222222\n",
      "Caribbean              3057.312500\n",
      "Melanesia              2896.400000\n",
      "Polynesia               432.000000\n",
      "Micronesia               99.000000\n",
      "Name: International trade: Imports (million US$), dtype: float64\n"
     ]
    }
   ],
   "source": [
    "trade=data.groupby('Region').mean()['International trade: Imports (million US$)'].sort_values(ascending=False)\n",
    "print(f\"Northern America has highest International trade and Micronesia has lowest International trade\\n {trade}\")\n"
   ]
  },
  {
   "cell_type": "markdown",
   "id": "d10c1a43",
   "metadata": {},
   "source": [
    "### 4. Find out which region has more consistent with respect to GDP per capita(currentUS)"
   ]
  },
  {
   "cell_type": "code",
   "execution_count": 37,
   "id": "91e125a5",
   "metadata": {},
   "outputs": [
    {
     "data": {
      "text/plain": [
       "<AxesSubplot:xlabel='Region'>"
      ]
     },
     "execution_count": 37,
     "metadata": {},
     "output_type": "execute_result"
    },
    {
     "data": {
      "image/png": "[encoded data removed]",
      "text/plain": [
       "<Figure size 432x288 with 1 Axes>"
      ]
     },
     "metadata": {
      "needs_background": "light"
     },
     "output_type": "display_data"
    }
   ],
   "source": [
    "data.groupby(by='Region')['GDP per capita (current US$)'].std().sort_values().plot(kind='bar')"
   ]
  },
  {
   "cell_type": "code",
   "execution_count": null,
   "id": "61bbb008",
   "metadata": {},
   "outputs": [],
   "source": []
  }
 ],
 "metadata": {
  "kernelspec": {
   "display_name": "Python 3 (ipykernel)",
   "language": "python",
   "name": "python3"
  },
  "language_info": {
   "codemirror_mode": {
    "name": "ipython",
    "version": 3
   },
   "file_extension": ".py",
   "mimetype": "text/x-python",
   "name": "python",
   "nbconvert_exporter": "python",
   "pygments_lexer": "ipython3",
   "version": "3.9.12"
  }
 },
 "nbformat": 4,
 "nbformat_minor": 5
}
